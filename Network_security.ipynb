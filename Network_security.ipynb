{
  "nbformat": 4,
  "nbformat_minor": 0,
  "metadata": {
    "colab": {
      "name": "Network security.ipynb",
      "provenance": [],
      "toc_visible": true
    },
    "kernelspec": {
      "name": "python3",
      "display_name": "Python 3"
    },
    "language_info": {
      "name": "python"
    }
  },
  "cells": [
    {
      "cell_type": "code",
      "metadata": {
        "colab": {
          "base_uri": "https://localhost:8080/"
        },
        "id": "JA6zpsxmW2Qe",
        "outputId": "f0a3f9a2-92e7-4598-ba29-a0d9af2fd140"
      },
      "source": [
        " \n",
        "text=\"hello world\"\n",
        "import hashlib\n",
        "M=hashlib.md5()\n",
        "M.update(text.encode('utf-8'))\n",
        "print(M.hexdigest())"
      ],
      "execution_count": null,
      "outputs": [
        {
          "output_type": "stream",
          "text": [
            "5eb63bbbe01eeed093cb22bb8f5acdc3\n"
          ],
          "name": "stdout"
        }
      ]
    }
  ]
}